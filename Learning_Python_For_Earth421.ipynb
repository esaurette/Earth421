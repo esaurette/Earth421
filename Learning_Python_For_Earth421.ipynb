{
 "cells": [
  {
   "cell_type": "markdown",
   "metadata": {},
   "source": [
    "Learning Python for Earth 421\n",
    "======\n",
    "Work through this notebook to practise concepts that we learned in the tutorial!"
   ]
  },
  {
   "cell_type": "markdown",
   "metadata": {},
   "source": [
    "## Variables\n",
    "Variables store information in memory so that we can access them later. The name of the variable should give an indication to what the value represents.\n",
    "For example: `temperature_C = 25` or `experiment_name = 'Sorption Batch 1'` \n",
    "Variables can store many different types of information! Check some of them out below:"
   ]
  },
  {
   "cell_type": "code",
   "execution_count": null,
   "metadata": {},
   "outputs": [],
   "source": [
    "a = 5\n",
    "b = 'geology'\n",
    "c = True\n",
    "d = [1,2,3,4,5]\n",
    "e = 3.14159\n",
    "f = d[0]\n",
    "\n",
    "print('The variable a holds the value: ', a, ' which has a type of: ', type(a))\n",
    "print('The variable b holds the value: ', b, ' which has a type of: ', type(b))\n",
    "print('The variable c holds the value: ', c, ' which has a type of: ', type(c))\n",
    "print('The variable d holds the value: ', d, ' which has a type of: ', type(d))\n",
    "print('The variable e holds the value: ', e, ' which has a type of: ', type(e))\n",
    "print('The variable f holds the value: ', f, ' which has a type of: ', type(f))"
   ]
  },
  {
   "cell_type": "markdown",
   "metadata": {},
   "source": [
    "## Operators\n",
    "Operators are intuitive in Python! They are generally the same as what you learned way back in elementary school.\n",
    "\n",
    "The classics:\n",
    "+ addition `5 + 2 = 7`\n",
    "+ subtraction `4 - 1 = 3`\n",
    "+ divide `6/2 = 3`\n",
    "+ multiply `7*5 = 35`\n",
    "+ exponent `2**2 = 4`\n",
    "+ brackets `(6/3) + 2 = 4`\n",
    "\n",
    "More interesting...\n",
    "+ floor division `7 // 2 = 3`\n",
    "+ modulus `7 % 2 = 1`\n",
    "\n",
    "Even more interesting...\n",
    "+ assignments, `counter += 1` used to alter a preexisting variable with out assignments you could accomplish the same thing with the code `counter = counter + 1`\n",
    "\n",
    "Play around with these in the code cell below:\n"
   ]
  },
  {
   "cell_type": "code",
   "execution_count": null,
   "metadata": {},
   "outputs": [],
   "source": [
    "# A hash marks a line (or remainder of a line) that will not be read by the computer\n",
    "# This line is considered to be 'commented out'\n",
    "\n",
    "7 % 2\n",
    "\n",
    "# Delete the expression above and try your own!"
   ]
  },
  {
   "cell_type": "markdown",
   "metadata": {},
   "source": [
    "## Logic\n",
    "Python contains logic operators.\n",
    "\n",
    "+ Equals ` a == b `\n",
    "+ Does not equal ` a != b `\n",
    "+ Greater than ` a > b `\n",
    "+ Less than ` a < b `\n",
    "+ Greater than or equal to ` a >= b `\n",
    "+ Less than or equal to ` a <= b `\n",
    "+ and ` a == b and b > c `\n",
    "+ or ` a == b or a == c `\n",
    "+ not ` not a == b `\n",
    "\n",
    "These operators evaluate statements to be `True` or `False`. This is helpful in many ways. For example you may want to check if a variable (temperature) fits into a defined category (hot or cold)! Lets see how that would work:"
   ]
  },
  {
   "cell_type": "code",
   "execution_count": null,
   "metadata": {},
   "outputs": [],
   "source": [
    "temperature_boundary = 27 #temperatures above this boundary are HOT, temperatures below this boundary are COLD\n",
    "todays_temperature = 23\n",
    "\n",
    "todays_temperature > temperature_boundary #This can be read as 'Is today's temperature greater than the temperature boundary?'\n",
    "\n",
    "# Replace the greater than operator with another and rerun the code to see what happens!"
   ]
  },
  {
   "cell_type": "markdown",
   "metadata": {},
   "source": [
    "## Built in and Defined Functions\n",
    "Python has many built in functions such as `print()` which prints a value to the console for you to see or `type()` which returns the classification of the data it is given. You can also use python to define a function of your own with the `def` keyword. Lets create a function that takes a number and raises it to the power of two:"
   ]
  },
  {
   "cell_type": "code",
   "execution_count": null,
   "metadata": {},
   "outputs": [],
   "source": [
    "def to_the_power_of_two(x):\n",
    "    ''' function takes an number, x, raises it to the power of two and returns the result '''\n",
    "    return x**2\n",
    "\n",
    "print(to_the_power_of_two(3))\n",
    "# vary the input to this function and see what happens!"
   ]
  },
  {
   "cell_type": "markdown",
   "metadata": {},
   "source": [
    "## BYOF: Build Your Own Function\n",
    "We think about temperature in celcius (atleast in Canada we do!) but many scientific equations require us to use temperature in degrees Kelvin instead. Write a function that takes a variable, temperature in degrees C, and returns that temperature in degrees Kelvin."
   ]
  },
  {
   "cell_type": "code",
   "execution_count": null,
   "metadata": {},
   "outputs": [],
   "source": [
    "#def FUNCTION_NAME(variable):\n",
    "    #convert the variable\n",
    "    #return the new variable\n",
    "    \n",
    "def to_kelvin(T):\n",
    "    ''' Takes a temperature in degrees celcius, T, and returns the temperature in degrees kelvin. '''\n",
    "    #\n",
    "    # write your code here!\n",
    "    #\n",
    "\n",
    "# try calling your function by passing it a temperature!"
   ]
  },
  {
   "cell_type": "code",
   "execution_count": null,
   "metadata": {},
   "outputs": [],
   "source": [
    "# check if your function is correct! if you run this code and it returns no errors you got it right!\n",
    "assert to_kelvin(5) == 278.15"
   ]
  },
  {
   "cell_type": "markdown",
   "metadata": {},
   "source": [
    "## Importing modules\n",
    "\"If I have seen further it is by standing on the shoulders of giants\" -Isaac Newton\n",
    "\n",
    "Many people have written useful code that they share online in python libraries, packages and modules that contain functions you would like to use but aren't interested in re-inventing the wheel for! To import a module you use the keyword ` import ` followed by the module name. You can choose to create a shorthand to represent the module in your code so that you don't have to type the full module name every time you use it, for example: ` import math as m `. Check it out below!"
   ]
  },
  {
   "cell_type": "code",
   "execution_count": null,
   "metadata": {},
   "outputs": [],
   "source": [
    "import math as m\n",
    "\n",
    "r = float(input('Radius? ')) #the input function asks for a user generated input, however that input is by default a string and we must convert it to a float value to use in the following equation\n",
    "\n",
    "circumference = 2*m.pi*r\n",
    "\n",
    "print(circumference)\n",
    "\n",
    "# Try using a module you haven't imported yet by redefining the variable r to be:\n",
    "# random.randint(1, 10) which chooses a random integer from 1 to 10 (inclusive!), and re-run the code!\n",
    "# Try rerunning the code after importing the random module in the line of code below\n",
    "# the import of the math module.\n"
   ]
  },
  {
   "cell_type": "markdown",
   "metadata": {},
   "source": [
    "## While loops\n",
    "Sometimes you want to repeat a set of calculations until you reach some critical threshold. I want to continue eating ` while ` I'm still hungry. After each bite I'll evaluate my hunger level and ask myself 'still hungry?' usually the answer is ` True ` and I take another bite, but occassionally it's ` False ` and I don't! Perhaps more relevantly *hint hint* you want to complete a set of calculations ` while ` the error is greater than the threshold and stop calculating once the error is sufficiently low... but let's get back to food."
   ]
  },
  {
   "cell_type": "code",
   "execution_count": null,
   "metadata": {},
   "outputs": [],
   "source": [
    "# A while loop to decide how many cookies is enough\n",
    "\n",
    "cookies_eaten = 0 # how many cookies I've eaten directly after waking up\n",
    "hunger_level = 2500 # daily calorie intake\n",
    "cals_per_cookie = 100\n",
    "\n",
    "while hunger_level > 0: # check if you're hungry\n",
    "    cookies_eaten += 1 # eat a cookie\n",
    "    hunger_level -= cals_per_cookie # feel a little less hungry\n",
    "    \n",
    "print('Today I ate: ', cookies_eaten, ' cookies')\n",
    "print('My hunger level is now: ', hunger_level, ' calories')\n",
    "\n",
    "# try varying the code to see what happens if you eat a higher calorie cookie!\n"
   ]
  },
  {
   "cell_type": "markdown",
   "metadata": {},
   "source": [
    "## For loops\n",
    "Getting the computer to repeat calculations is extremely powerful. It may seem like a burden to write code to convert one temperature from celcius to kelvin but what if you weren't just doing one, two or ten calculations but you needed to do 100? You'd use a for loop. For loops run the code block for each instance in a sequence or iterable. Here's an example: "
   ]
  },
  {
   "cell_type": "code",
   "execution_count": null,
   "metadata": {},
   "outputs": [],
   "source": [
    "grades = [76, 89, 47, 60, 92]\n",
    "new_grades = [] # we have to initialize an empty list to hold values we will generate in the for loop\n",
    "\n",
    "for grade in grades:\n",
    "    grade *= 1.10 # lets give everybody a 10% grade bump and see if anyone is still failing\n",
    "    new_grades.append(round(grade)) # the append function adds whatever is passed to it to the list\n",
    "    \n",
    "print(new_grades)\n",
    "\n",
    "# change the percent grade increase to make sure everyone passes but you don't give out grades higher than 100%"
   ]
  },
  {
   "cell_type": "markdown",
   "metadata": {},
   "source": [
    "Okay, now heres the real test. I've created a list of 100 temperatures. Use the function you created previously to convert them to kelvin."
   ]
  },
  {
   "cell_type": "code",
   "execution_count": null,
   "metadata": {},
   "outputs": [],
   "source": [
    "temperatures = [84,159,148,62,16,39,90,109,9,131,190,48,146,150,104,113,\n",
    "                162,152,13,173,164,87,47,153,25,34,18,192,77,115,176,96,\n",
    "                41,64,31,76,155,94,122,102,82,156,195,92,182,161,24,139,\n",
    "                140,12,170,128,160,187,50,53,80,177,110,20,120,1,118,103,\n",
    "                178,74,27,40,144,5,141,114,11,127,61,123,100,68,86,46,3,\n",
    "                107,60,166,71,174,79,133,188,95,42,105,137,15,124,10,75,198,49,2]\n",
    "\n",
    "# your code here\n",
    "\n",
    "# to check your answer take the sum of the temperatures in kelvin and the sum should equal 37120.\n",
    "sum(temperatures) # this is how you take a sum of a list"
   ]
  },
  {
   "cell_type": "code",
   "execution_count": null,
   "metadata": {},
   "outputs": [],
   "source": []
  }
 ],
 "metadata": {
  "kernelspec": {
   "display_name": "Python 3",
   "language": "python",
   "name": "python3"
  },
  "language_info": {
   "codemirror_mode": {
    "name": "ipython",
    "version": 3
   },
   "file_extension": ".py",
   "mimetype": "text/x-python",
   "name": "python",
   "nbconvert_exporter": "python",
   "pygments_lexer": "ipython3",
   "version": "3.7.7"
  }
 },
 "nbformat": 4,
 "nbformat_minor": 2
}
